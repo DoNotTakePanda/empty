{
  "cells": [
    {
      "cell_type": "markdown",
      "metadata": {
        "id": "view-in-github",
        "colab_type": "text"
      },
      "source": [
        "<a href=\"https://colab.research.google.com/github/DoNotTakePanda/workshop_ISYS2001/blob/main/Module%2001/02_Fixing_Mistakes_in_Python.ipynb\" target=\"_parent\"><img src=\"https://colab.research.google.com/assets/colab-badge.svg\" alt=\"Open In Colab\"/></a>"
      ]
    },
    {
      "cell_type": "markdown",
      "metadata": {
        "id": "SK88OtQFOFFV"
      },
      "source": [
        "Welcome to this notebook! 🎉\n",
        "\n",
        "Making mistakes is a natural part of learning to code. In fact, every programmer—no matter how experienced—runs into errors. The good news? Python is great at telling us when something is wrong. Our job is simply to **read the message carefully and make small corrections** to get the code working.  \n",
        "\n",
        "In this notebook, you'll practice **fixing common beginner mistakes** like:\n",
        "\n",
        "- ✅ Using the correct spelling for Python commands\n",
        "- ✅ Making sure parentheses and quotation marks are complete\n",
        "- ✅ Using the right spacing (indentation)\n",
        "- ✅ Paying attention to uppercase and lowercase letters\n",
        "\n",
        "Each section contains a small mistake in the code. Your task is to **spot the error and fix it** so the program runs correctly!\n",
        "\n",
        "> 💡 **Advanced Note:** This process of finding and fixing mistakes is called **debugging**. Later in the semester, we’ll explore more advanced techniques to help us do this even faster!\n",
        "\n",
        "Let's get started! 🚀\n",
        "\n",
        "\n",
        "## Section 6: Fixing Indentation Errors\n",
        "\n",
        "> Python is **indentation-sensitive**. The following code has an indentation error. Run the code first so you can see the error message, then fix it!"
      ]
    },
    {
      "cell_type": "code",
      "execution_count": 8,
      "metadata": {
        "vscode": {
          "languageId": "python"
        },
        "id": "OunfPQvHOFFW",
        "colab": {
          "base_uri": "https://localhost:8080/"
        },
        "outputId": "196a5367-b262-4314-a659-bff0387cb87a"
      },
      "outputs": [
        {
          "output_type": "stream",
          "name": "stdout",
          "text": [
            "Hello\n",
            "Python!\n"
          ]
        }
      ],
      "source": [
        "print(\"Hello\")\n",
        "print(\"Python!\")\n",
        "#indentation issue"
      ]
    },
    {
      "cell_type": "markdown",
      "metadata": {
        "id": "ovFEoBVcOFFX"
      },
      "source": [
        "> 💡 Try to read the error message carefully. Often, you won't understand the full message but only parts of it—use those clues to find the problem.\n",
        "> 💡 **AI Tip:** If you're confused about indentation errors, paste your error into AI and ask for an explanation.\n",
        "> 💡 **Advanced Note:** The error message in Python is called a *traceback* and identifies the *exception* that occurred. We will learn more about error messages during the semester.\n",
        "\n",
        "\n",
        "# Section 5: Case Sensitivity Matters!\n",
        "\n",
        "Python treats `print`, `Print`, and `PRINT` as different things! RRun the code first so you can see the error message, then fix the incorrect function call!"
      ]
    },
    {
      "cell_type": "code",
      "execution_count": 9,
      "metadata": {
        "vscode": {
          "languageId": "python"
        },
        "id": "ceCZd5ShOFFX",
        "colab": {
          "base_uri": "https://localhost:8080/"
        },
        "outputId": "5e7a3290-68ff-4a6b-b297-72ac6c30b1b0"
      },
      "outputs": [
        {
          "output_type": "stream",
          "name": "stdout",
          "text": [
            "All caps\n"
          ]
        }
      ],
      "source": [
        "#PRINT(\"All caps\")\n",
        "#case sensitive functions\n",
        "print(\"All caps\")"
      ]
    },
    {
      "cell_type": "markdown",
      "metadata": {
        "id": "Ezg5SrHROFFX"
      },
      "source": [
        "# Section 7: Common Typos\n",
        "\n",
        "Watch out for typos! Run the code first so you can see the error message, then fix it!"
      ]
    },
    {
      "cell_type": "code",
      "execution_count": 10,
      "metadata": {
        "vscode": {
          "languageId": "python"
        },
        "id": "KldK0H5HOFFY",
        "colab": {
          "base_uri": "https://localhost:8080/"
        },
        "outputId": "16ee096c-ce71-4b28-afdf-1a89b4bdcd9b"
      },
      "outputs": [
        {
          "output_type": "stream",
          "name": "stdout",
          "text": [
            "Hello, World!\n"
          ]
        }
      ],
      "source": [
        "#pint(\"Hello, World!\")\n",
        "#incorrect functino spelling\n",
        "print(\"Hello, World!\")"
      ]
    },
    {
      "cell_type": "markdown",
      "metadata": {
        "id": "6aruEOqmOFFY"
      },
      "source": [
        "> 💡 **AI Tip:** If you struggle with fixing typos, ask AI: *What’s wrong with this Python function call?*\n",
        "\n",
        "# Section 8: Closing Strings Properly\n",
        "\n",
        "Make sure all strings have both opening and closing quotation marks! Run the code first so you can see the error message, then fix it!\n",
        "\n",
        "\n",
        "## Task: Fix the missing quote"
      ]
    },
    {
      "cell_type": "code",
      "execution_count": 12,
      "metadata": {
        "vscode": {
          "languageId": "python"
        },
        "id": "maEfvkH0OFFY",
        "colab": {
          "base_uri": "https://localhost:8080/"
        },
        "outputId": "2ebbe549-d052-4951-d272-ba3b358e52e0"
      },
      "outputs": [
        {
          "output_type": "stream",
          "name": "stdout",
          "text": [
            "Python\n"
          ]
        }
      ],
      "source": [
        "#print(\"Python)\n",
        "#missing closing caption\n",
        "print(\"Python\")"
      ]
    },
    {
      "cell_type": "markdown",
      "metadata": {
        "id": "PouFfRZUOFFY"
      },
      "source": [
        "# Section 9: Matching Parentheses\n",
        "\n",
        "Every opening parenthesis `(` must have a closing parenthesis `)`. Fix the error below."
      ]
    },
    {
      "cell_type": "code",
      "execution_count": 14,
      "metadata": {
        "vscode": {
          "languageId": "python"
        },
        "id": "5Xs4R7qBOFFY",
        "colab": {
          "base_uri": "https://localhost:8080/"
        },
        "outputId": "0f17c7b0-1e1f-45a8-f31c-d3446cc5530e"
      },
      "outputs": [
        {
          "output_type": "stream",
          "name": "stdout",
          "text": [
            "I have no end\n"
          ]
        }
      ],
      "source": [
        "#print(\"I have no end\"\n",
        "#missing closing paranthesis\n",
        "print(\"I have no end\")\n"
      ]
    },
    {
      "cell_type": "markdown",
      "metadata": {
        "id": "zkaJ5TWFOFFY"
      },
      "source": [
        "> 💡 **AI Tip:** If you don’t understand an AI explanation, ask it to **simplify further**!\n",
        "\n",
        "# Section 9: Debugging a Beginner's Code\n",
        "\n",
        "Bob wrote his first Python script, but it has some errors. Can you fix them?"
      ]
    },
    {
      "cell_type": "code",
      "execution_count": 15,
      "metadata": {
        "vscode": {
          "languageId": "python"
        },
        "id": "VddWXBpIOFFY",
        "colab": {
          "base_uri": "https://localhost:8080/"
        },
        "outputId": "9c207f83-2ae3-4806-f68c-aaf62869c0b2"
      },
      "outputs": [
        {
          "output_type": "stream",
          "name": "stdout",
          "text": [
            "Good morning!\n",
            "Python is amazing!\n",
            "Let's learn Python together!\n",
            "Coding is exciting\n",
            "I have no idea what's going on!\n"
          ]
        }
      ],
      "source": [
        "# prinT(\"Good morning!\"\n",
        "# Print(\"Python is amazing!\")\n",
        "#     print(\"Let's learn Python together!\"\n",
        "# print(\"Coding is exciting\")\n",
        "# print(\"I have no idea what's going on!\"\n",
        "\n",
        "print(\"Good morning!\")\n",
        "#case sensitive function)\n",
        "print(\"Python is amazing!\")\n",
        "#case senstive function\n",
        "print(\"Let's learn Python together!\")\n",
        "#indentation errors\n",
        "print(\"Coding is exciting\")\n",
        "#no error\n",
        "print(\"I have no idea what's going on!\")\n",
        "#missing closing parenthesis"
      ]
    },
    {
      "cell_type": "markdown",
      "metadata": {
        "id": "WPMHViKCOFFY"
      },
      "source": [
        "> 💡 **AI Tip:** If you're unsure about fixing errors, ask AI: *What’s wrong with this code?* Then compare AI's explanation with your understanding."
      ]
    }
  ],
  "metadata": {
    "kernelspec": {
      "display_name": "Python 3 (ipykernel)",
      "language": "python",
      "name": "python3"
    },
    "colab": {
      "provenance": [],
      "include_colab_link": true
    }
  },
  "nbformat": 4,
  "nbformat_minor": 0
}