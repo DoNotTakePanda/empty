{
  "cells": [
    {
      "cell_type": "markdown",
      "metadata": {
        "id": "view-in-github",
        "colab_type": "text"
      },
      "source": [
        "<a href=\"https://colab.research.google.com/github/DoNotTakePanda/workshop_ISYS2001/blob/main/Week1_Budget_Tracker_Brandon.ipynb\" target=\"_parent\"><img src=\"https://colab.research.google.com/assets/colab-badge.svg\" alt=\"Open In Colab\"/></a>"
      ]
    },
    {
      "cell_type": "markdown",
      "id": "45b851c9",
      "metadata": {
        "id": "45b851c9"
      },
      "source": [
        "# Mini Project 01: AI-Powered Budget Tracker\n",
        "# ISYS2001 Introduction to Business Programming\n",
        "\n",
        "**Instructions:**\n",
        "1. Save a copy of this notebook to your Google Drive (File > Save a copy in Drive)  \n",
        "2. Rename it to include your name: `Week1_Budget_Tracker_[YourName]`  \n",
        "3. Complete all sections and code cells  \n",
        "4. Document your AI interactions as you go\n"
      ]
    },
    {
      "cell_type": "markdown",
      "id": "a60fc4c8",
      "metadata": {
        "id": "a60fc4c8"
      },
      "source": [
        "## Part 1: Environment Setup and First Steps"
      ]
    },
    {
      "cell_type": "code",
      "execution_count": 1,
      "id": "2e576bd1",
      "metadata": {
        "id": "2e576bd1",
        "colab": {
          "base_uri": "https://localhost:8080/"
        },
        "outputId": "92efb56f-e1f9-4137-d4e0-2e8eff1ea687"
      },
      "outputs": [
        {
          "output_type": "stream",
          "name": "stdout",
          "text": [
            "🎉 Welcome to ISYS2001: Introduction to Business Programming!\n",
            "📊 Project: Personal Finance Assistant\n",
            "🤖 Today's Goal: Build a Simple Budget Tracker with AI Help\n",
            "\n",
            "📅 Worksheet started at: 2025-07-30 02:04:49\n"
          ]
        }
      ],
      "source": [
        "# Run this cell to test your environment\n",
        "print(\"🎉 Welcome to ISYS2001: Introduction to Business Programming!\")\n",
        "print(\"📊 Project: Personal Finance Assistant\")\n",
        "print(\"🤖 Today's Goal: Build a Simple Budget Tracker with AI Help\")\n",
        "\n",
        "# Import datetime to timestamp your work\n",
        "from datetime import datetime\n",
        "print(f\"\\n📅 Worksheet started at: {datetime.now().strftime('%Y-%m-%d %H:%M:%S')}\")"
      ]
    },
    {
      "cell_type": "markdown",
      "id": "7ac0ada2",
      "metadata": {
        "id": "7ac0ada2"
      },
      "source": [
        "## Part 2: Your First AI Prompt\n",
        "\n",
        "Use an AI assistant (Gemini in Colab, ChatGPT, or GitHub Copilot) to create a program that:\n",
        "- Asks the user for their name\n",
        "- Asks for their monthly income  \n",
        "- Prints a personalized welcome message\n",
        "\n",
        "### 📝 Document Your AI Prompt Below:"
      ]
    },
    {
      "cell_type": "code",
      "execution_count": 2,
      "id": "62045e66",
      "metadata": {
        "id": "62045e66",
        "colab": {
          "base_uri": "https://localhost:8080/",
          "height": 53
        },
        "outputId": "64b31af6-a450-4886-80ad-62eb65510944"
      },
      "outputs": [
        {
          "output_type": "execute_result",
          "data": {
            "text/plain": [
              "'\\nMy AI Prompt:\\nHelp me create a python program that:\\nAsks the user for their name\\nAsks for their monthly income\\nPrints a personalized welcome message\\n'"
            ],
            "application/vnd.google.colaboratory.intrinsic+json": {
              "type": "string"
            }
          },
          "metadata": {},
          "execution_count": 2
        }
      ],
      "source": [
        "# TASK: Write your AI prompt as a comment below\n",
        "\"\"\"\n",
        "My AI Prompt:\n",
        "Help me create a python program that:\n",
        "Asks the user for their name\n",
        "Asks for their monthly income\n",
        "Prints a personalized welcome message\n",
        "\"\"\"\n",
        "\n",
        "# Paste the AI-generated code below:\n",
        "# [YOUR AI-GENERATED CODE GOES HERE]"
      ]
    },
    {
      "cell_type": "markdown",
      "id": "daaaec49",
      "metadata": {
        "id": "daaaec49"
      },
      "source": [
        "### 🔍 Evidence Package Entry #1"
      ]
    },
    {
      "cell_type": "code",
      "execution_count": 3,
      "id": "667d3549",
      "metadata": {
        "id": "667d3549",
        "colab": {
          "base_uri": "https://localhost:8080/"
        },
        "outputId": "632c36a3-5d52-454f-c5ab-ce557cd9e2b2"
      },
      "outputs": [
        {
          "output_type": "stream",
          "name": "stdout",
          "text": [
            "📋 EVIDENCE PACKAGE #1\n",
            "timestamp: 2025-07-30 02:09:59\n",
            "context: I wanted to create a simple input/output program to practice AI prompting\n",
            "ai_tool_used: CHATGPT\n",
            "what_worked: The AI understood my request and gave me 2 variables with name and income that requires a user input at the beginning of the program. Then after that I printed out a command that fetches the user's name and the user's income from the previous input statements into a personalised welcome message\n",
            "what_didnt: I did exactly what I told it to!\n",
            "what_i_learned: I learned that python is a very easy programming language to learn!\n"
          ]
        }
      ],
      "source": [
        "# Evidence Package Documentation\n",
        "evidence_1 = {\n",
        "    \"timestamp\": datetime.now().strftime('%Y-%m-%d %H:%M:%S'),\n",
        "    \"context\": \"I wanted to create a simple input/output program to practice AI prompting\",\n",
        "    \"ai_tool_used\": \"CHATGPT\",  # Update this\n",
        "    \"what_worked\": \"The AI understood my request and gave me 2 variables with name and income that requires a user input at the beginning of the program. Then after that I printed out a command that fetches the user's name and the user's income from the previous input statements into a personalised welcome message\",\n",
        "    \"what_didnt\": \"I did exactly what I told it to!\",\n",
        "    \"what_i_learned\": \"I learned that python is a very easy programming language to learn!\"\n",
        "}\n",
        "\n",
        "# Display your evidence\n",
        "print(\"📋 EVIDENCE PACKAGE #1\")\n",
        "for key, value in evidence_1.items():\n",
        "    print(f\"{key}: {value}\")"
      ]
    },
    {
      "cell_type": "markdown",
      "id": "182c831f",
      "metadata": {
        "id": "182c831f"
      },
      "source": [
        "## Part 3: Building the Budget Tracker\n",
        "\n",
        "Use AI to help you write a program that:\n",
        "- Allows users to input their monthly income\n",
        "- Allows users to input up to 3 expenses  \n",
        "- Calculates remaining budget\n",
        "- Shows a warning if budget is negative\n",
        "\n",
        "### 💡 Pro Tip: Be specific about requirements!"
      ]
    },
    {
      "cell_type": "code",
      "execution_count": 4,
      "id": "74e672e3",
      "metadata": {
        "id": "74e672e3",
        "colab": {
          "base_uri": "https://localhost:8080/",
          "height": 53
        },
        "outputId": "dedc6a3b-6551-4677-e8b7-88e02f47a25d"
      },
      "outputs": [
        {
          "output_type": "execute_result",
          "data": {
            "text/plain": [
              "'\\nMy Budget Tracker Prompt:\\nNow I want to:\\nAllows users to input their monthly income\\nAllows users to input up to 3 expenses\\nCalculates remaining budget\\nShows a warning if budget is negative\\n'"
            ],
            "application/vnd.google.colaboratory.intrinsic+json": {
              "type": "string"
            }
          },
          "metadata": {},
          "execution_count": 4
        }
      ],
      "source": [
        "# TASK: Write your detailed prompt for the budget tracker\n",
        "\"\"\"\n",
        "My Budget Tracker Prompt:\n",
        "Now I want to:\n",
        "Allows users to input their monthly income\n",
        "Allows users to input up to 3 expenses\n",
        "Calculates remaining budget\n",
        "Shows a warning if budget is negative\n",
        "\"\"\""
      ]
    },
    {
      "cell_type": "markdown",
      "id": "4bcfacf4",
      "metadata": {
        "id": "4bcfacf4"
      },
      "source": [
        "### Paste and Test Your AI-Generated Budget Tracker"
      ]
    },
    {
      "cell_type": "code",
      "execution_count": 6,
      "id": "2501e778",
      "metadata": {
        "id": "2501e778",
        "colab": {
          "base_uri": "https://localhost:8080/"
        },
        "outputId": "463a4ac1-8d6b-4447-d4ba-eae5eba8430e"
      },
      "outputs": [
        {
          "output_type": "stream",
          "name": "stdout",
          "text": [
            "Please enter your name: Brandon\n",
            "Enter your monthly income: 2000\n",
            "Enter expense #1: 500\n",
            "Enter expense #2: 1000\n",
            "Enter expense #3: 700\n",
            "\n",
            "Brandon, your total monthly income is: $2000.00\n",
            "Your total expenses are: $2200.00\n",
            "Remaining budget: $-200.00\n",
            "⚠️ Warning: Your expenses exceed your income!\n"
          ]
        }
      ],
      "source": [
        "# AI-GENERATED BUDGET TRACKER CODE\n",
        "# # Ask for user's name\n",
        "name = input(\"Please enter your name: \")\n",
        "\n",
        "# Ask for monthly income and convert it to a float\n",
        "income = float(input(\"Enter your monthly income: \"))\n",
        "\n",
        "# Initialize total expenses\n",
        "total_expenses = 0\n",
        "\n",
        "# Loop to get up to 3 expenses\n",
        "for i in range(1, 4):\n",
        "    expense = float(input(f\"Enter expense #{i}: \"))\n",
        "    total_expenses += expense\n",
        "\n",
        "# Calculate remaining budget\n",
        "remaining_budget = income - total_expenses\n",
        "\n",
        "# Display results\n",
        "print(f\"\\n{name}, your total monthly income is: ${income:.2f}\")\n",
        "print(f\"Your total expenses are: ${total_expenses:.2f}\")\n",
        "print(f\"Remaining budget: ${remaining_budget:.2f}\")\n",
        "\n",
        "# Show warning if budget is negative\n",
        "if remaining_budget < 0:\n",
        "    print(\"⚠️ Warning: Your expenses exceed your income!\")\n"
      ]
    },
    {
      "cell_type": "markdown",
      "id": "f541d525",
      "metadata": {
        "id": "f541d525"
      },
      "source": [
        "### 🐛 Debugging and Refinement"
      ]
    },
    {
      "cell_type": "code",
      "execution_count": 10,
      "id": "3f624a27",
      "metadata": {
        "id": "3f624a27",
        "colab": {
          "base_uri": "https://localhost:8080/"
        },
        "outputId": "ceefff77-88cf-43d8-ce70-d6a1c55993f7"
      },
      "outputs": [
        {
          "output_type": "stream",
          "name": "stdout",
          "text": [
            "🔧 DEBUGGING NOTES:\n",
            "- Issue 1: It allows user to enter numbers as a name\n",
            "- Fix 1: add 'string' before the name input to ensure that only strings are recognised as names\n"
          ]
        }
      ],
      "source": [
        "# Document any issues and fixes\n",
        "issues_found = [\n",
        "    \"Issue 1: It allows user to enter numbers as a name\",\n",
        "    \"Fix 1: add 'str' before the name input to ensure that only strings are recognised as names\"\n",
        "    # Add more as needed\n",
        "]\n",
        "\n",
        "print(\"🔧 DEBUGGING NOTES:\")\n",
        "for item in issues_found:\n",
        "    print(f\"- {item}\")"
      ]
    },
    {
      "cell_type": "code",
      "execution_count": 13,
      "id": "0772261d",
      "metadata": {
        "id": "0772261d",
        "colab": {
          "base_uri": "https://localhost:8080/"
        },
        "outputId": "bd7c89b1-e0d8-4fe9-f81a-af7490b82230"
      },
      "outputs": [
        {
          "output_type": "stream",
          "name": "stdout",
          "text": [
            "Please enter your name: Brandon\n",
            "Enter your monthly income: 2000\n",
            "Enter expense #1: 1000\n",
            "Enter expense #2: 300\n",
            "Enter expense #3: 200\n",
            "\n",
            "Brandon, your total monthly income is: $2000.00\n",
            "Your total expenses are: $1500.00\n",
            "Remaining budget: $500.00\n"
          ]
        }
      ],
      "source": [
        "from pickle import STRING\n",
        "from ctypes import string_at\n",
        "# REFINED VERSION - Your Working Budget Tracker\n",
        "# # Ask for user's name\n",
        "name = str(input(\"Please enter your name: \"))\n",
        "\n",
        "# Ask for monthly income and convert it to a float\n",
        "income = float(input(\"Enter your monthly income: \"))\n",
        "\n",
        "# Initialize total expenses\n",
        "total_expenses = 0\n",
        "\n",
        "# Loop to get up to 3 expenses\n",
        "for i in range(1, 4):\n",
        "    expense = float(input(f\"Enter expense #{i}: \"))\n",
        "    total_expenses += expense\n",
        "\n",
        "# Calculate remaining budget\n",
        "remaining_budget = income - total_expenses\n",
        "\n",
        "# Display results\n",
        "print(f\"\\n{name}, your total monthly income is: ${income:.2f}\")\n",
        "print(f\"Your total expenses are: ${total_expenses:.2f}\")\n",
        "print(f\"Remaining budget: ${remaining_budget:.2f}\")\n",
        "\n",
        "# Show warning if budget is negative\n",
        "if remaining_budget < 0:\n",
        "    print(\"⚠️ Warning: Your expenses exceed your income!\")"
      ]
    },
    {
      "cell_type": "markdown",
      "id": "ca842a66",
      "metadata": {
        "id": "ca842a66"
      },
      "source": [
        "## Part 4: Enhancement Challenge\n",
        "\n",
        "Choose ONE feature to add using AI assistance:\n",
        "- 🏷️ Expense categories (food, transport, entertainment)\n",
        "- 📊 Show percentage of income spent\n",
        "- ✅ Input validation (no negative numbers)\n",
        "- 📝 Detailed budget summary with advice"
      ]
    },
    {
      "cell_type": "code",
      "execution_count": null,
      "id": "fbd649d2",
      "metadata": {
        "id": "fbd649d2"
      },
      "outputs": [],
      "source": [
        "# Document your enhancement\n",
        "enhancement_choice = \"I chose to add: Input Validation (No Negative Numbers)\"\n",
        "enhancement_prompt = \"\"\"\n",
        "[Write the prompt you used to add this feature]\n",
        "\"\"\"\n",
        "\n",
        "print(f\"🚀 ENHANCEMENT: {enhancement_choice}\")"
      ]
    },
    {
      "cell_type": "code",
      "execution_count": 7,
      "id": "b12879f3",
      "metadata": {
        "id": "b12879f3",
        "colab": {
          "base_uri": "https://localhost:8080/"
        },
        "outputId": "88350c05-88e4-48c3-cc3c-6c4c4683ebd6"
      },
      "outputs": [
        {
          "output_type": "stream",
          "name": "stdout",
          "text": [
            "Please enter your name: 2\n",
            "Enter your monthly income: 2000\n",
            "Enter expense #1: -20\n",
            "Please enter a non-negative number.\n",
            "Enter expense #1: 20\n",
            "Enter expense #2: 50\n",
            "Enter expense #3: 1000\n",
            "\n",
            "2, your total monthly income is: $2000.00\n",
            "Your total expenses are: $1070.00\n",
            "Remaining budget: $930.00\n"
          ]
        }
      ],
      "source": [
        "# ENHANCED BUDGET TRACKER\n",
        "# # Function to get a non-negative float input\n",
        "def get_non_negative_float(prompt):\n",
        "    while True:\n",
        "        try:\n",
        "            value = float(input(prompt))\n",
        "            if value < 0:\n",
        "                print(\"Please enter a non-negative number.\")\n",
        "            else:\n",
        "                return value\n",
        "        except ValueError:\n",
        "            print(\"Invalid input. Please enter a number.\")\n",
        "\n",
        "# Ask for user's name\n",
        "name = input(\"Please enter your name: \")\n",
        "\n",
        "# Get monthly income\n",
        "income = get_non_negative_float(\"Enter your monthly income: \")\n",
        "\n",
        "# Initialize total expenses\n",
        "total_expenses = 0\n",
        "\n",
        "# Loop to get up to 3 non-negative expenses\n",
        "for i in range(1, 4):\n",
        "    expense = get_non_negative_float(f\"Enter expense #{i}: \")\n",
        "    total_expenses += expense\n",
        "\n",
        "# Calculate remaining budget\n",
        "remaining_budget = income - total_expenses\n",
        "\n",
        "# Display results\n",
        "print(f\"\\n{name}, your total monthly income is: ${income:.2f}\")\n",
        "print(f\"Your total expenses are: ${total_expenses:.2f}\")\n",
        "print(f\"Remaining budget: ${remaining_budget:.2f}\")\n",
        "\n",
        "# Show warning if budget is negative\n",
        "if remaining_budget < 0:\n",
        "    print(\"⚠️ Warning: Your expenses exceed your income!\")\n"
      ]
    },
    {
      "cell_type": "markdown",
      "id": "cfa2845b",
      "metadata": {
        "id": "cfa2845b"
      },
      "source": [
        "## Part 5: Reflection and Lab Exit Ticket Preparation"
      ]
    },
    {
      "cell_type": "code",
      "execution_count": 14,
      "id": "220ff6b4",
      "metadata": {
        "id": "220ff6b4",
        "colab": {
          "base_uri": "https://localhost:8080/"
        },
        "outputId": "a64b7c65-013b-4f22-ad2e-4e491de93a5d"
      },
      "outputs": [
        {
          "output_type": "stream",
          "name": "stdout",
          "text": [
            "📋 EVIDENCE PACKAGE #2 (Final)\n",
            "timestamp: 2025-07-30 02:23:10\n",
            "context: Creating the full budget tracker with enhancements\n",
            "ai_tool_used: CHATGPT\n",
            "prompts_used: 3\n",
            "iterations_needed: 1\n",
            "final_reflection: [What you learned about AI-assisted programming]\n"
          ]
        }
      ],
      "source": [
        "# Final Evidence Package Summary\n",
        "evidence_2 = {\n",
        "    \"timestamp\": datetime.now().strftime('%Y-%m-%d %H:%M:%S'),\n",
        "    \"context\": \"Creating the full budget tracker with enhancements\",\n",
        "    \"ai_tool_used\": \"CHATGPT\",\n",
        "    \"prompts_used\": 3,  # Update this number\n",
        "    \"iterations_needed\": 1,  # How many times you refined\n",
        "    \"final_reflection\": \"[What you learned about AI-assisted programming]\"\n",
        "}\n",
        "\n",
        "print(\"📋 EVIDENCE PACKAGE #2 (Final)\")\n",
        "for key, value in evidence_2.items():\n",
        "    print(f\"{key}: {value}\")"
      ]
    },
    {
      "cell_type": "markdown",
      "id": "69d17be0",
      "metadata": {
        "id": "69d17be0"
      },
      "source": [
        "## 🎯 Submission Checklist\n",
        "\n",
        "Before submitting:\n",
        "- ✅ All code cells run without errors\n",
        "- ✅ You've documented at least 2 AI interactions  \n",
        "- ✅ Budget tracker accepts income and 3+ expenses\n",
        "- ✅ Completed both Evidence Packages\n",
        "- ✅ Attempted the enhancement challenge\n",
        "- ✅ Reflected on your AI collaboration experience"
      ]
    },
    {
      "cell_type": "code",
      "execution_count": 16,
      "id": "0d85c2f1",
      "metadata": {
        "id": "0d85c2f1",
        "colab": {
          "base_uri": "https://localhost:8080/"
        },
        "outputId": "b33b6fb7-9ab2-4d52-bdf2-a414b70200d1"
      },
      "outputs": [
        {
          "output_type": "stream",
          "name": "stdout",
          "text": [
            "==================================================\n",
            "WEEK 1 WORKSHEET COMPLETION SUMMARY\n",
            "==================================================\n",
            "Student Name: Brandon\n",
            "Completion Time: 2025-07-30 02:24:41\n",
            "\n",
            "Core Features Implemented:\n",
            "✅ Basic income/expense input\n",
            "✅ Budget calculation\n",
            "✅ Warning for negative budget\n",
            "✅ Enhancement: [Your enhancement]\n",
            "\n",
            "AI Collaboration Stats:\n",
            "- AI tools used: ChatGPT\n",
            "- Number of prompts: 3\n",
            "- Success rate: 90%\n",
            "\n",
            "🎉 Ready for Lab Exit Ticket submission!\n"
          ]
        }
      ],
      "source": [
        "# Generate submission summary\n",
        "print(\"=\"*50)\n",
        "print(\"WEEK 1 WORKSHEET COMPLETION SUMMARY\")\n",
        "print(\"=\"*50)\n",
        "print(f\"Student Name: Brandon\")\n",
        "print(f\"Completion Time: {datetime.now().strftime('%Y-%m-%d %H:%M:%S')}\")\n",
        "print(\"\\nCore Features Implemented:\")\n",
        "print(\"✅ Basic income/expense input\")\n",
        "print(\"✅ Budget calculation\")\n",
        "print(\"✅ Warning for negative budget\")\n",
        "print(\"✅ Enhancement: [Your enhancement]\")\n",
        "print(\"\\nAI Collaboration Stats:\")\n",
        "print(f\"- AI tools used: ChatGPT\")\n",
        "print(f\"- Number of prompts: 3\")\n",
        "print(f\"- Success rate: 90%\")\n",
        "print(\"\\n🎉 Ready for Lab Exit Ticket submission!\")"
      ]
    },
    {
      "cell_type": "markdown",
      "id": "63b51742",
      "metadata": {
        "id": "63b51742"
      },
      "source": [
        "## 💭 Final Reflection Questions\n",
        "\n",
        "**1. What surprised you most about working with AI to generate code?**  \n",
        "[Your answer here]\n",
        "\n",
        "**2. What makes a good prompt vs. a poor prompt?**  \n",
        "[Your answer here]\n",
        "\n",
        "**3. How do you see AI tools fitting into your future programming workflow?**  \n",
        "[Your answer here]\n",
        "\n",
        "---\n",
        "\n",
        "### 📁 Save and Next Steps:\n",
        "1. File > Save a copy in GitHub (if you haven't already)    \n",
        "2. Prepare evidence for next lab session for the Exit Ticket  \n",
        "3. Start thinking about Week 2: Variables & Data Types!\n"
      ]
    },
    {
      "cell_type": "code",
      "source": [],
      "metadata": {
        "id": "rdAf6Gc517wB"
      },
      "id": "rdAf6Gc517wB",
      "execution_count": null,
      "outputs": []
    }
  ],
  "metadata": {
    "colab": {
      "provenance": [],
      "include_colab_link": true
    },
    "language_info": {
      "name": "python"
    },
    "kernelspec": {
      "name": "python3",
      "display_name": "Python 3"
    }
  },
  "nbformat": 4,
  "nbformat_minor": 5
}